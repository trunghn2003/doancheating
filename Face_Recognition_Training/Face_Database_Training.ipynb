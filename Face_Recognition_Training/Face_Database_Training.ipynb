{
  "cells": [
    {
      "cell_type": "markdown",
      "metadata": {},
      "source": [
        "# 🗄️ Face Database Training Notebook\n",
        "\n",
        "Notebook này hướng dẫn tạo Face Database bằng InsightFace (đa khuôn mặt, nhanh).\n",
        "\n",
        "## 📋 Các bước\n",
        "1. Import thư viện, kiểm tra dataset\n",
        "2. Khởi tạo InsightFace\n",
        "3. Tạo face embeddings cho từng người trong `FaceDataset/train/`\n",
        "4. Lưu `models/face_database_kaggle.pkl`\n",
        "5. Test nhanh bằng ảnh trong `FaceDataset/val/`\n"
      ]
    },
    {
      "cell_type": "markdown",
      "metadata": {},
      "source": [
        "## 📦 Import và kiểm tra dataset\n"
      ]
    },
    {
      "cell_type": "code",
      "execution_count": 1,
      "metadata": {},
      "outputs": [
        {
          "name": "stdout",
          "output_type": "stream",
          "text": [
            "🔍 Checking dataset structure...\n",
            "✅ FaceDataset/train/ | people: 5\n",
            "   - ben_afflek: 14 images\n",
            "   - elton_john: 17 images\n",
            "   - mindy_kaling: 22 images\n",
            "   - messi: 15 images\n",
            "   - jerry_seinfeld: 21 images\n",
            "✅ FaceDataset/val/ | people: 5\n",
            "   - ben_afflek: 5 images\n",
            "   - elton_john: 5 images\n",
            "   - mindy_kaling: 5 images\n",
            "   - messi: 5 images\n",
            "   - jerry_seinfeld: 5 images\n"
          ]
        }
      ],
      "source": [
        "import warnings\n",
        "warnings.filterwarnings('ignore')\n",
        "\n",
        "import os, sys, time, pickle\n",
        "import numpy as np\n",
        "import cv2\n",
        "from pathlib import Path\n",
        "\n",
        "print(\"🔍 Checking dataset structure...\")\n",
        "train_dir = \"FaceDataset/train/\"\n",
        "val_dir = \"FaceDataset/val/\"\n",
        "\n",
        "for d in [train_dir, val_dir]:\n",
        "    if not os.path.exists(d):\n",
        "        print(f\"❌ Missing: {d}\")\n",
        "    else:\n",
        "        persons = [p for p in os.listdir(d) if os.path.isdir(os.path.join(d,p))]\n",
        "        print(f\"✅ {d} | people: {len(persons)}\")\n",
        "        for p in persons:\n",
        "            imgs = [f for f in os.listdir(os.path.join(d,p)) if f.lower().endswith((\".jpg\",\".jpeg\",\".png\"))]\n",
        "            print(f\"   - {p}: {len(imgs)} images\")\n"
      ]
    },
    {
      "cell_type": "markdown",
      "metadata": {},
      "source": [
        "## 👁️‍🗨️ Khởi tạo InsightFace\n"
      ]
    },
    {
      "cell_type": "code",
      "execution_count": 3,
      "metadata": {},
      "outputs": [
        {
          "name": "stdout",
          "output_type": "stream",
          "text": [
            "🔧 Initializing InsightFace (buffalo_l, CPU)...\n",
            "Applied providers: ['CPUExecutionProvider'], with options: {'CPUExecutionProvider': {}}\n",
            "find model: /Users/hoangtrung/.insightface/models/buffalo_l/1k3d68.onnx landmark_3d_68 ['None', 3, 192, 192] 0.0 1.0\n",
            "Applied providers: ['CPUExecutionProvider'], with options: {'CPUExecutionProvider': {}}\n",
            "find model: /Users/hoangtrung/.insightface/models/buffalo_l/2d106det.onnx landmark_2d_106 ['None', 3, 192, 192] 0.0 1.0\n",
            "Applied providers: ['CPUExecutionProvider'], with options: {'CPUExecutionProvider': {}}\n",
            "find model: /Users/hoangtrung/.insightface/models/buffalo_l/det_10g.onnx detection [1, 3, '?', '?'] 127.5 128.0\n",
            "Applied providers: ['CPUExecutionProvider'], with options: {'CPUExecutionProvider': {}}\n",
            "find model: /Users/hoangtrung/.insightface/models/buffalo_l/genderage.onnx genderage ['None', 3, 96, 96] 0.0 1.0\n",
            "Applied providers: ['CPUExecutionProvider'], with options: {'CPUExecutionProvider': {}}\n",
            "find model: /Users/hoangtrung/.insightface/models/buffalo_l/w600k_r50.onnx recognition ['None', 3, 112, 112] 127.5 127.5\n",
            "set det-size: (640, 640)\n",
            "✅ InsightFace ready!\n"
          ]
        }
      ],
      "source": [
        "import insightface\n",
        "from numpy.linalg import norm\n",
        "\n",
        "print(\"🔧 Initializing InsightFace (buffalo_l, CPU)...\")\n",
        "fa = insightface.app.FaceAnalysis(name='buffalo_l', providers=['CPUExecutionProvider'])\n",
        "fa.prepare(ctx_id=-1)\n",
        "print(\"✅ InsightFace ready!\")\n"
      ]
    },
    {
      "cell_type": "markdown",
      "metadata": {},
      "source": [
        "## 🗄️ Tạo Face Database và lưu models/face_database_kaggle.pkl\n"
      ]
    },
    {
      "cell_type": "code",
      "execution_count": 4,
      "metadata": {},
      "outputs": [
        {
          "name": "stdout",
          "output_type": "stream",
          "text": [
            "🚀 Building database from: FaceDataset/train/\n",
            "\n",
            "👤 ben_afflek: 14 images\n",
            "   ✅ httpcsvkmeuaeccjpg.jpg\n",
            "   ✅ httpssmediacacheakpinimgcomxdbbdbbbececacdecdcdfjpg.jpg\n",
            "   ✅ httpsuploadwikimediaorgwikipediacommonsthumbddBenAffleckbyGageSkidmorejpgpxBenAffleckbyGageSkidmorejpg.jpg\n",
            "   ✅ httpwwwaceshowbizcomimagesphotobenaffleckjpg.jpg\n",
            "   ✅ httpwwwfilmscoopitcgibinattoriBENAFFLECKBENAFFLECKjpg.jpg\n",
            "   ✅ httpssmediacacheakpinimgcomxeebdfdbaaajpg.jpg\n",
            "   ✅ httptrwebimgacstanetcxbdddmediasnmediajpg.jpg\n",
            "   ✅ httpwwwhillsindcomstorebenjpg.jpg\n",
            "   ✅ httpssmediacacheakpinimgcomxdfdfadcfeabjpg.jpg\n",
            "   ✅ httpssmediacacheakpinimgcomxeeedcacddeccccacfjpg.jpg\n",
            "   ✅ httpwwwrumenewscomwpcontentuploadsbenafflekxpng.jpg\n",
            "   ✅ httpwwwallposterscomimagesPostersPFjpg.jpg\n",
            "   ✅ httpimagesfandangocomrImageRendererredesignstaticimgnoxportraitjpgpcpcpcimagesmasterrepositoryperformerimagespjpg.jpg\n",
            "   ✅ httpssmediacacheakpinimgcomxedaedabcbefbcbabbjpg.jpg\n",
            "   📊 saved mean embedding (14 valid)\n",
            "\n",
            "👤 elton_john: 17 images\n",
            "   ✅ httpsdfrpwlycscloudfrontnetdeltonjohnjpg.jpg\n",
            "   ✅ httpiamediaimdbcomimagesMMVBMTAxNDUMzUwOTdeQTJeQWpwZBbWUMDUOTAyNTIVUXCRALjpg.jpg\n",
            "   ✅ httpwwwjohnpauljonesarenacomeventimagesEltonCalendarVjpg.jpg\n",
            "   ✅ httpssmediacacheakpinimgcomxfcfcbaeaeddabbjpg.jpg\n",
            "   ✅ httpftqncomymusicLxZeltonjohnjpg.jpg\n",
            "   ✅ httpmediacacheecpinimgcomxffeffbcefjpg.jpg\n",
            "   ✅ httpimggalpmdstaticnetfithttpAFFwwwEgalaEfrFvarFgalFstorageFimagesFmediaFmultiuploaddufevrierFeltonjohnFfreFRFeltonjohnEjpgxqualityeltonjohnjpg.jpg\n",
            "   ✅ httpsticketmnettmenusdamabbacdaebeafdbbCUSTOMjpg.jpg\n",
            "   ✅ httpsuploadwikimediaorgwikipediacommonsthumbEltonJohninsjpgpxEltonJohninsjpg.jpg\n",
            "   ✅ httpimagesmtvcomurimgidfiledocrootvhcomsitewideflipbooksimgdailyjpgenlargefalsemattetruematteColorblackquality.jpg\n",
            "   ✅ httpspmctvlinefileswordpresscomeltonjohnjpg.jpg\n",
            "   ✅ httpwwwlautdeEltonJohneltonjohnjpg.jpg\n",
            "   ✅ httpssmediacacheakpinimgcomxfefdacfbfdeadajpg.jpg\n",
            "   ✅ httpwwwdeadlinecomvimgnetwpcontentuploadseltonjpg.jpg\n",
            "   ✅ httpmediapopsugarassetscomfilescbffewltonjpg.jpg\n",
            "   ✅ httpwwweonlinecomresizewwweonlinecomeolimagesEntireSitersxEltonJohnJRjpg.jpg\n",
            "   ✅ httpssmediacacheakpinimgcomxfecfecaefaadfebejpg.jpg\n",
            "   📊 saved mean embedding (17 valid)\n",
            "\n",
            "👤 jerry_seinfeld: 21 images\n",
            "   ✅ httpimgthedrumcomsfspublicnewstmpjerryseinfeldjpg.jpg\n",
            "   ✅ httpsuswestamazonawscomblogsprodmediausuploadsJerrySeinfeldkidsxjpg.jpg\n",
            "   ✅ httpswwwticketscomuploadsartistsjerryseinfeldbilletsjpg.jpg\n",
            "   ✅ httpwwwnndbcompeoplejerryseinfeldaujpg.jpg\n",
            "   ✅ httpwwwslatecomcontentdamslateblogsbrowbeatseinfeldjpgCROParticlemediumjpg.jpg\n",
            "   ✅ httpsmedialivenationcomartiststapjpg.jpg\n",
            "   ✅ httpwwwpictureszimbiocomgpJerrySeinfeldJessicaSeinfeldmarriedBczSipMdNMQljpg.jpg\n",
            "   ✅ httpsticketmnettmenusdbimagesajpg.jpg\n",
            "   ✅ httpmediapopsugarassetscomfilesusersxlargejpg.jpg\n",
            "   ✅ httpimgtimeincnetpeopleinewsjerryseinfeldjpg.jpg\n",
            "   ✅ httpwwwpsychiatrictimescomsitesdefaultfilesimagesmediaPTMofficSeinfeldjpg.jpg\n",
            "   ✅ httpgraphicsnytimescomimagessectionmoviesfilmographyWireImagejpg.jpg\n",
            "   ✅ httpwwweonlinecomresizewwweonlinecomeolimagesEntireSitersxjerryseinfeldjulialouisdreyfusjwjpg.jpg\n",
            "   ✅ httpstatictherichestimagescomcdncwpcontentuploadsJerrySeinfeldjpg.jpg\n",
            "   ✅ httpwwwwatchidcomsitesdefaultfilesuploadsightingBreitlingwatchJerrySeinfeldjpg.jpg\n",
            "   ✅ httpimagescontactmusiccomnewsimagesjerryseinfeldjpg.jpg\n",
            "   ✅ httpimagesrottentomatoescomimagesspotlightsnewsjerryseinfeldjpg.jpg\n",
            "   ✅ httpsrobertaccetturacomwpcontentuploadsjerryseinfeldheadshotjpg.jpg\n",
            "   ✅ httppfodcompchannelslegacyprofilejerryseinfeldpodcastjpg.jpg\n",
            "   ✅ httpikinjaimgcomgawkermediaimageuploadsWmIuhdsrcedidjpgjpg.jpg\n",
            "   ✅ httpsuploadwikimediaorgwikipediacommonsthumbbJerrySeinfeldjpgpxJerrySeinfeldjpg.jpg\n",
            "   📊 saved mean embedding (21 valid)\n",
            "\n",
            "👤 messi: 15 images\n",
            "   ✅ 8.jpg\n",
            "   ✅ 9.jpg\n",
            "   ✅ 14.jpg\n",
            "   ✅ 15.jpg\n",
            "   ✅ 12.jpg\n",
            "   ✅ 13.jpg\n",
            "   ✅ 11.jpg\n",
            "   ✅ 10.jpg\n",
            "   ✅ 4.jpg\n",
            "   ✅ 5.jpg\n",
            "   ✅ 7.jpg\n",
            "   ⚠️  6.jpg: no face detected\n",
            "   ✅ 2.jpg\n",
            "   ✅ 3.jpg\n",
            "   ✅ 1.jpg\n",
            "   📊 saved mean embedding (14 valid)\n",
            "\n",
            "👤 mindy_kaling: 22 images\n",
            "   ✅ httpsimagesnasslimagesamazoncomimagesIAQdwKvFILUXjpg.jpg\n",
            "   ✅ httpssmediacacheakpinimgcomxafaffbbbbdbcbdddjpg.jpg\n",
            "   ✅ httpwwwimpropercomimagesuploadsusercontentimagesSoroffMindyjpg.jpg\n",
            "   ✅ httpgraphicsnytimescomimagesmagazinekalingkalingarticleInlinejpg.jpg\n",
            "   ✅ httpimagesnymagcomimagesdailymindykalingxjpg.jpg\n",
            "   ✅ httpwwweonlinecomeolimagesEntireSiteregKalingCancermhjpg.jpg\n",
            "   ✅ httppixelnymagcomimgsfashiondailymindykalingwhjpg.jpg\n",
            "   ✅ httpsamazonawscomkidzworldphotoimagesbccdddaaadgallerymindykalinggalleryjpg.jpg\n",
            "   ✅ httpssmediacacheakpinimgcomxcccccddbbfedabjpg.jpg\n",
            "   ✅ httpsuploadwikimediaorgwikipediacommonsthumbMindyBKalingBPaleyFestBNewBYorkBBMindyBIqZgUWvbljpgpxMindyBKalingBPaleyFestBNewBYorkBBMindyBIqZgUWvbljpg.jpg\n",
            "   ✅ httpssmediacacheakpinimgcomxbabafeacbaaacabffjpg.jpg\n",
            "   ✅ httpssmediacacheakpinimgcomxccccdabeaadjpg.jpg\n",
            "   ✅ httpwwwbooksforbetterlivingcomwpcontentuploadsMindyKalingAuthorPhotojpg.jpg\n",
            "   ✅ httpsimgbuzzfeedcombuzzfeedstaticstaticcampaignimageswebdradorableetsyitemsallmindykalingfansneedbigjpg.jpg\n",
            "   ✅ httpmediaonsugarcomfilesbabaaaaaMindyInterviewxxxlargejpg.jpg\n",
            "   ✅ httpwwwpictureszimbiocomfpMindyKalingfBgaONVFDFmjpg.jpg\n",
            "   ✅ httpwwwadweekcomfilesimagecachenodeinlinemindykalingprofilehedjpg.jpg\n",
            "   ✅ httpgonetworthcomwpcontentuploadsthumbsjpg.jpg\n",
            "   ✅ httpssmediacacheakpinimgcomxbbfcbdedfbfdbjpg.jpg\n",
            "   ✅ httpwwwpictureszimbiocomgiMindyKalingLkvEhTwDeJmjpg.jpg\n",
            "   ✅ httpssmediacacheakpinimgcomxededbebccdajpg.jpg\n",
            "   ✅ httpssmediacacheakpinimgcomxeedccadejpg.jpg\n",
            "   📊 saved mean embedding (22 valid)\n",
            "\n",
            "💾 Saved: models/face_database_kaggle.pkl\n",
            "👥 People in DB: 5\n"
          ]
        }
      ],
      "source": [
        "os.makedirs(\"models\", exist_ok=True)\n",
        "output_pkl = \"models/face_database_kaggle.pkl\"\n",
        "\n",
        "database = {}\n",
        "print(\"🚀 Building database from:\", train_dir)\n",
        "\n",
        "for person in sorted([p for p in os.listdir(train_dir) if os.path.isdir(os.path.join(train_dir,p))]):\n",
        "    person_dir = os.path.join(train_dir, person)\n",
        "    embeddings = []\n",
        "    imgs = [f for f in os.listdir(person_dir) if f.lower().endswith((\".jpg\",\".jpeg\",\".png\"))]\n",
        "    print(f\"\\n👤 {person}: {len(imgs)} images\")\n",
        "    for img_name in imgs:\n",
        "        img_path = os.path.join(person_dir, img_name)\n",
        "        img = cv2.imread(img_path)\n",
        "        if img is None:\n",
        "            continue\n",
        "        faces = fa.get(img)\n",
        "        if len(faces) == 0:\n",
        "            print(f\"   ⚠️  {img_name}: no face detected\")\n",
        "            continue\n",
        "        embeddings.append(faces[0].embedding)\n",
        "        print(f\"   ✅ {img_name}\")\n",
        "    if embeddings:\n",
        "        database[person] = np.mean(embeddings, axis=0)\n",
        "        print(f\"   📊 saved mean embedding ({len(embeddings)} valid)\")\n",
        "\n",
        "with open(output_pkl, 'wb') as f:\n",
        "    pickle.dump(database, f)\n",
        "\n",
        "print(\"\\n💾 Saved:\", output_pkl)\n",
        "print(\"👥 People in DB:\", len(database))\n"
      ]
    },
    {
      "cell_type": "markdown",
      "metadata": {},
      "source": [
        "## 🧪 Test nhanh trên FaceDataset/val\n"
      ]
    },
    {
      "cell_type": "code",
      "execution_count": 5,
      "metadata": {},
      "outputs": [
        {
          "name": "stdout",
          "output_type": "stream",
          "text": [
            "✅ DB loaded. People: 5\n",
            "\n",
            "🔍 Testing: FaceDataset/val/ben_afflek/httpcsvkmeuadecafjpg.jpg\n",
            "🎯 Best match: ben_afflek | score: 0.8256 | gt: ben_afflek\n"
          ]
        }
      ],
      "source": [
        "# Load DB\n",
        "with open(output_pkl, 'rb') as f:\n",
        "    db = pickle.load(f)\n",
        "\n",
        "print(\"✅ DB loaded. People:\", len(db))\n",
        "\n",
        "# Chọn 1 ảnh từ val để test\n",
        "tested = False\n",
        "for person in [p for p in os.listdir(val_dir) if os.path.isdir(os.path.join(val_dir,p))]:\n",
        "    imgs = [f for f in os.listdir(os.path.join(val_dir, person)) if f.lower().endswith((\".jpg\",\".jpeg\",\".png\"))]\n",
        "    if not imgs:\n",
        "        continue\n",
        "    img_path = os.path.join(val_dir, person, imgs[0])\n",
        "    print(\"\\n🔍 Testing:\", img_path)\n",
        "    img = cv2.imread(img_path)\n",
        "    faces = fa.get(img)\n",
        "    if len(faces) == 0:\n",
        "        print(\"⚠️  No face detected\")\n",
        "        continue\n",
        "    query = faces[0].embedding\n",
        "    # cosine similarity\n",
        "    query = query / norm(query)\n",
        "    best_score = -1\n",
        "    best_name = \"Unknown\"\n",
        "    for name, emb in db.items():\n",
        "        e = emb / norm(emb)\n",
        "        score = float(np.dot(query, e))\n",
        "        if score > best_score:\n",
        "            best_score = score\n",
        "            best_name = name\n",
        "    print(f\"🎯 Best match: {best_name} | score: {best_score:.4f} | gt: {person}\")\n",
        "    tested = True\n",
        "    break\n",
        "\n",
        "if not tested:\n",
        "    print(\"⚠️  No validation images found.\")\n"
      ]
    },
    {
      "cell_type": "markdown",
      "metadata": {},
      "source": [
        "## 📦 Import các thư viện cần thiết\n"
      ]
    },
    {
      "cell_type": "code",
      "execution_count": 6,
      "metadata": {},
      "outputs": [
        {
          "name": "stdout",
          "output_type": "stream",
          "text": [
            "✅ All libraries imported successfully!\n"
          ]
        }
      ],
      "source": [
        "import warnings\n",
        "warnings.filterwarnings('ignore')\n",
        "\n",
        "import os\n",
        "import sys\n",
        "import time\n",
        "import datetime\n",
        "import numpy as np\n",
        "import pickle\n",
        "from pathlib import Path\n",
        "\n",
        "# Computer Vision\n",
        "import cv2\n",
        "from PIL import Image\n",
        "import matplotlib.pyplot as plt\n",
        "\n",
        "# Face Recognition\n",
        "import insightface\n",
        "from numpy.linalg import norm\n",
        "\n",
        "print(\"✅ All libraries imported successfully!\")\n"
      ]
    },
    {
      "cell_type": "markdown",
      "metadata": {},
      "source": [
        "## 🔧 Khởi tạo InsightFace Model\n"
      ]
    },
    {
      "cell_type": "code",
      "execution_count": 7,
      "metadata": {},
      "outputs": [
        {
          "name": "stdout",
          "output_type": "stream",
          "text": [
            "🔧 Initializing InsightFace model...\n",
            "Applied providers: ['CPUExecutionProvider'], with options: {'CPUExecutionProvider': {}}\n",
            "find model: /Users/hoangtrung/.insightface/models/buffalo_l/1k3d68.onnx landmark_3d_68 ['None', 3, 192, 192] 0.0 1.0\n",
            "Applied providers: ['CPUExecutionProvider'], with options: {'CPUExecutionProvider': {}}\n",
            "find model: /Users/hoangtrung/.insightface/models/buffalo_l/2d106det.onnx landmark_2d_106 ['None', 3, 192, 192] 0.0 1.0\n",
            "Applied providers: ['CPUExecutionProvider'], with options: {'CPUExecutionProvider': {}}\n",
            "find model: /Users/hoangtrung/.insightface/models/buffalo_l/det_10g.onnx detection [1, 3, '?', '?'] 127.5 128.0\n",
            "Applied providers: ['CPUExecutionProvider'], with options: {'CPUExecutionProvider': {}}\n",
            "find model: /Users/hoangtrung/.insightface/models/buffalo_l/genderage.onnx genderage ['None', 3, 96, 96] 0.0 1.0\n",
            "Applied providers: ['CPUExecutionProvider'], with options: {'CPUExecutionProvider': {}}\n",
            "find model: /Users/hoangtrung/.insightface/models/buffalo_l/w600k_r50.onnx recognition ['None', 3, 112, 112] 127.5 127.5\n",
            "set det-size: (640, 640)\n",
            "✅ InsightFace model loaded successfully!\n",
            "📊 Model info:\n",
            "   Name: buffalo_l\n",
            "   Provider: CPU\n",
            "   Context ID: -1 (CPU)\n",
            "\n",
            "🧪 Testing model...\n",
            "✅ Test successful! Found 1 face(s) in test image\n",
            "   Face embedding dimension: (512,)\n"
          ]
        }
      ],
      "source": [
        "print(\"🔧 Initializing InsightFace model...\")\n",
        "\n",
        "# Load InsightFace model\n",
        "# Sử dụng buffalo_l model (tốt nhất cho face recognition)\n",
        "model = insightface.app.FaceAnalysis(name='buffalo_l', providers=['CPUExecutionProvider'])\n",
        "model.prepare(ctx_id=-1)  # ctx_id=-1 for CPU, 0 for GPU\n",
        "\n",
        "print(\"✅ InsightFace model loaded successfully!\")\n",
        "print(f\"📊 Model info:\")\n",
        "print(f\"   Name: buffalo_l\")\n",
        "print(f\"   Provider: CPU\")\n",
        "print(f\"   Context ID: -1 (CPU)\")\n",
        "\n",
        "# Test model với một ảnh mẫu\n",
        "print(\"\\n🧪 Testing model...\")\n",
        "test_image_path = \"FaceDataset/train/messi/1.jpg\"  # Thay đổi đường dẫn nếu cần\n",
        "\n",
        "if os.path.exists(test_image_path):\n",
        "    img = cv2.imread(test_image_path)\n",
        "    faces = model.get(img)\n",
        "    print(f\"✅ Test successful! Found {len(faces)} face(s) in test image\")\n",
        "    if len(faces) > 0:\n",
        "        print(f\"   Face embedding dimension: {faces[0].embedding.shape}\")\n",
        "else:\n",
        "    print(\"⚠️  Test image not found, but model is ready to use\")\n"
      ]
    },
    {
      "cell_type": "markdown",
      "metadata": {},
      "source": [
        "## 📁 Kiểm tra Dataset Structure\n"
      ]
    },
    {
      "cell_type": "code",
      "execution_count": 8,
      "metadata": {},
      "outputs": [
        {
          "name": "stdout",
          "output_type": "stream",
          "text": [
            "🔍 Checking dataset structure...\n",
            "==================================================\n",
            "✅ Training dataset found: FaceDataset/train/\n",
            "   👤 ben_afflek: 14 images\n",
            "   👤 elton_john: 17 images\n",
            "   👤 mindy_kaling: 22 images\n",
            "   👤 messi: 15 images\n",
            "   👤 jerry_seinfeld: 21 images\n",
            "\n",
            "📊 Training Summary:\n",
            "   👥 Total people: 5\n",
            "   🖼️  Total images: 89\n",
            "\n",
            "==================================================\n",
            "✅ Validation dataset found: FaceDataset/val/\n",
            "   👤 ben_afflek: 5 images\n",
            "   👤 elton_john: 5 images\n",
            "   👤 mindy_kaling: 5 images\n",
            "   👤 messi: 5 images\n",
            "   👤 jerry_seinfeld: 5 images\n",
            "\n",
            "📊 Validation Summary:\n",
            "   👥 Total people: 5\n",
            "   🖼️  Total images: 25\n"
          ]
        }
      ],
      "source": [
        "# Đường dẫn dataset\n",
        "dataset_train = \"FaceDataset/train/\"\n",
        "dataset_val = \"FaceDataset/val/\"\n",
        "\n",
        "print(\"🔍 Checking dataset structure...\")\n",
        "print(\"=\" * 50)\n",
        "\n",
        "# Kiểm tra thư mục train\n",
        "if os.path.exists(dataset_train):\n",
        "    print(f\"✅ Training dataset found: {dataset_train}\")\n",
        "    \n",
        "    # Đếm số người và ảnh\n",
        "    people_count = 0\n",
        "    total_images = 0\n",
        "    \n",
        "    for person_name in os.listdir(dataset_train):\n",
        "        person_dir = os.path.join(dataset_train, person_name)\n",
        "        if os.path.isdir(person_dir):\n",
        "            people_count += 1\n",
        "            images = [f for f in os.listdir(person_dir) if f.lower().endswith(('.jpg', '.jpeg', '.png'))]\n",
        "            image_count = len(images)\n",
        "            total_images += image_count\n",
        "            print(f\"   👤 {person_name}: {image_count} images\")\n",
        "    \n",
        "    print(f\"\\n📊 Training Summary:\")\n",
        "    print(f\"   👥 Total people: {people_count}\")\n",
        "    print(f\"   🖼️  Total images: {total_images}\")\n",
        "else:\n",
        "    print(f\"❌ Training dataset not found: {dataset_train}\")\n",
        "\n",
        "print(\"\\n\" + \"=\" * 50)\n",
        "\n",
        "# Kiểm tra thư mục validation\n",
        "if os.path.exists(dataset_val):\n",
        "    print(f\"✅ Validation dataset found: {dataset_val}\")\n",
        "    \n",
        "    val_people_count = 0\n",
        "    val_total_images = 0\n",
        "    \n",
        "    for person_name in os.listdir(dataset_val):\n",
        "        person_dir = os.path.join(dataset_val, person_name)\n",
        "        if os.path.isdir(person_dir):\n",
        "            val_people_count += 1\n",
        "            images = [f for f in os.listdir(person_dir) if f.lower().endswith(('.jpg', '.jpeg', '.png'))]\n",
        "            image_count = len(images)\n",
        "            val_total_images += image_count\n",
        "            print(f\"   👤 {person_name}: {image_count} images\")\n",
        "    \n",
        "    print(f\"\\n📊 Validation Summary:\")\n",
        "    print(f\"   👥 Total people: {val_people_count}\")\n",
        "    print(f\"   🖼️  Total images: {val_total_images}\")\n",
        "else:\n",
        "    print(f\"❌ Validation dataset not found: {dataset_val}\")\n"
      ]
    },
    {
      "cell_type": "markdown",
      "metadata": {},
      "source": []
    },
    {
      "cell_type": "code",
      "execution_count": 10,
      "metadata": {},
      "outputs": [
        {
          "name": "stdout",
          "output_type": "stream",
          "text": [
            "✅ Loaded database with 6 people.\n",
            "\n",
            "➕ Thêm người mới vào DB:\n"
          ]
        },
        {
          "data": {
            "application/vnd.jupyter.widget-view+json": {
              "model_id": "5e1829291cad4ee4bc9826c759dc9e02",
              "version_major": 2,
              "version_minor": 0
            },
            "text/plain": [
              "Text(value='', description='Tên:', placeholder='Nhập tên người mới (ví dụ: john_doe)')"
            ]
          },
          "metadata": {},
          "output_type": "display_data"
        },
        {
          "data": {
            "application/vnd.jupyter.widget-view+json": {
              "model_id": "4314e6c3b97045faa6d42a5b1dd11000",
              "version_major": 2,
              "version_minor": 0
            },
            "text/plain": [
              "FileUpload(value=(), accept='image/*', description='Upload', multiple=True)"
            ]
          },
          "metadata": {},
          "output_type": "display_data"
        },
        {
          "data": {
            "application/vnd.jupyter.widget-view+json": {
              "model_id": "4d3e5835a8204103899a60c985d2b00c",
              "version_major": 2,
              "version_minor": 0
            },
            "text/plain": [
              "Button(description='Thêm vào DB', style=ButtonStyle())"
            ]
          },
          "metadata": {},
          "output_type": "display_data"
        },
        {
          "data": {
            "application/vnd.jupyter.widget-view+json": {
              "model_id": "8ab6913f36564301a726e2b8925636eb",
              "version_major": 2,
              "version_minor": 0
            },
            "text/plain": [
              "Output()"
            ]
          },
          "metadata": {},
          "output_type": "display_data"
        },
        {
          "name": "stdout",
          "output_type": "stream",
          "text": [
            "\n",
            "🧪 Test ảnh mới:\n"
          ]
        },
        {
          "data": {
            "application/vnd.jupyter.widget-view+json": {
              "model_id": "3583fa90753841abbd2d1c5233b094df",
              "version_major": 2,
              "version_minor": 0
            },
            "text/plain": [
              "FileUpload(value=(), accept='image/*', description='Upload')"
            ]
          },
          "metadata": {},
          "output_type": "display_data"
        },
        {
          "data": {
            "application/vnd.jupyter.widget-view+json": {
              "model_id": "e4b71e18abf24a2d859e9c662a79bef7",
              "version_major": 2,
              "version_minor": 0
            },
            "text/plain": [
              "Button(description='Test Ảnh', style=ButtonStyle())"
            ]
          },
          "metadata": {},
          "output_type": "display_data"
        },
        {
          "data": {
            "application/vnd.jupyter.widget-view+json": {
              "model_id": "7df715ca0f3e476a9dca22b782f8c9ea",
              "version_major": 2,
              "version_minor": 0
            },
            "text/plain": [
              "Output()"
            ]
          },
          "metadata": {},
          "output_type": "display_data"
        }
      ],
      "source": [
        "import pickle\n",
        "import numpy as np\n",
        "import cv2\n",
        "import ipywidgets as widgets\n",
        "from IPython.display import display, Image as IPImage, clear_output\n",
        "import io\n",
        "from numpy.linalg import norm\n",
        "\n",
        "# Hàm load database (sẽ gọi khi cần reload)\n",
        "def load_database():\n",
        "    db_path = 'models/face_database_kaggle.pkl'\n",
        "    with open(db_path, 'rb') as f:\n",
        "        return pickle.load(f)\n",
        "\n",
        "database = load_database()  # Load ban đầu\n",
        "print(f\"✅ Loaded database with {len(database)} people.\")\n",
        "\n",
        "# Widget cho phần thêm người mới\n",
        "name_input = widgets.Text(value='', placeholder='Nhập tên người mới (ví dụ: john_doe)', description='Tên:')\n",
        "uploader_add = widgets.FileUpload(accept='image/*', multiple=True)  # Cho phép upload nhiều ảnh\n",
        "add_button = widgets.Button(description='Thêm vào DB')\n",
        "add_output = widgets.Output()\n",
        "\n",
        "def on_add_button_clicked(b):\n",
        "    global database  # Để cập nhật global database\n",
        "    with add_output:\n",
        "        clear_output()\n",
        "        new_name = name_input.value.strip()\n",
        "        if not new_name:\n",
        "            print(\"⚠️ Vui lòng nhập tên!\")\n",
        "            return\n",
        "        if new_name in database:\n",
        "            print(f\"⚠️ Tên '{new_name}' đã tồn tại trong DB!\")\n",
        "            return\n",
        "        if not uploader_add.value:\n",
        "            print(\"⚠️ Vui lòng upload ít nhất 1 ảnh!\")\n",
        "            return\n",
        "        \n",
        "        embeddings = []\n",
        "        for file_info in uploader_add.value:\n",
        "            image_bytes = file_info['content']\n",
        "            img = cv2.imdecode(np.frombuffer(image_bytes, np.uint8), cv2.IMREAD_COLOR)\n",
        "            faces = model.get(img)\n",
        "            if len(faces) == 0:\n",
        "                print(f\"⚠️ Ảnh '{file_info['name']}': Không phát hiện khuôn mặt.\")\n",
        "                continue\n",
        "            embeddings.append(faces[0].embedding)\n",
        "            print(f\"✅ Ảnh '{file_info['name']}': Đã trích xuất embedding.\")\n",
        "        \n",
        "        if not embeddings:\n",
        "            print(\"⚠️ Không có embedding hợp lệ!\")\n",
        "            return\n",
        "        \n",
        "        mean_emb = np.mean(embeddings, axis=0)\n",
        "        database[new_name] = mean_emb\n",
        "        with open(db_path, 'wb') as f:\n",
        "            pickle.dump(database, f)\n",
        "        print(f\"🎉 Đã thêm '{new_name}' vào DB với {len(embeddings)} ảnh. Tổng người: {len(database)}\")\n",
        "        \n",
        "        # Reset widget\n",
        "        name_input.value = ''\n",
        "        uploader_add.value = ()\n",
        "\n",
        "add_button.on_click(on_add_button_clicked)\n",
        "\n",
        "# Hiển thị widget thêm người\n",
        "print(\"\\n➕ Thêm người mới vào DB:\")\n",
        "display(name_input, uploader_add, add_button, add_output)\n",
        "\n",
        "# Widget cho phần test\n",
        "uploader_test = widgets.FileUpload(accept='image/*', multiple=False)\n",
        "test_button = widgets.Button(description='Test Ảnh')\n",
        "test_output = widgets.Output()\n",
        "\n",
        "def predict_face(embedding, threshold=0.5):\n",
        "    query = embedding / norm(embedding)\n",
        "    best_score = -1\n",
        "    best_name = \"Unknown\"\n",
        "    for name, emb in database.items():\n",
        "        e = emb / norm(emb)\n",
        "        score = float(np.dot(query, e))\n",
        "        if score > best_score:\n",
        "            best_score = score\n",
        "            best_name = name\n",
        "    if best_score < threshold:\n",
        "        return \"Unknown\", best_score\n",
        "    return best_name, best_score\n",
        "\n",
        "def on_test_button_clicked(b):\n",
        "    global database  # Reload để chắc chắn dùng DB mới nhất\n",
        "    database = load_database()  # Reload DB trước khi test\n",
        "    with test_output:\n",
        "        clear_output()\n",
        "        if not uploader_test.value:\n",
        "            print(\"⚠️ Vui lòng upload ảnh test!\")\n",
        "            return\n",
        "        file_info = uploader_test.value[0]\n",
        "        image_bytes = file_info['content']\n",
        "        img = cv2.imdecode(np.frombuffer(image_bytes, np.uint8), cv2.IMREAD_COLOR)\n",
        "        faces = model.get(img)\n",
        "        if len(faces) == 0:\n",
        "            print(\"⚠️ Không phát hiện khuôn mặt trong ảnh test.\")\n",
        "            return\n",
        "        query_emb = faces[0].embedding\n",
        "        pred_name, score = predict_face(query_emb)\n",
        "        display(IPImage(data=image_bytes, width=300))\n",
        "        print(f\"🎯 Predicted: {pred_name} (Score: {score:.4f})\")\n",
        "        \n",
        "        # Reset uploader\n",
        "        uploader_test.value = ()\n",
        "\n",
        "test_button.on_click(on_test_button_clicked)\n",
        "\n",
        "# Hiển thị widget test\n",
        "print(\"\\n🧪 Test ảnh mới:\")\n",
        "display(uploader_test, test_button, test_output)"
      ]
    }
  ],
  "metadata": {
    "kernelspec": {
      "display_name": ".venv",
      "language": "python",
      "name": "python3"
    },
    "language_info": {
      "codemirror_mode": {
        "name": "ipython",
        "version": 3
      },
      "file_extension": ".py",
      "mimetype": "text/x-python",
      "name": "python",
      "nbconvert_exporter": "python",
      "pygments_lexer": "ipython3",
      "version": "3.10.19"
    }
  },
  "nbformat": 4,
  "nbformat_minor": 2
}
